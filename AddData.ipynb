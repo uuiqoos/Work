{
 "cells": [
  {
   "cell_type": "code",
   "execution_count": 2,
   "id": "f4068416",
   "metadata": {},
   "outputs": [
    {
     "name": "stdout",
     "output_type": "stream",
     "text": [
      "Collecting opencv-python\n",
      "  Using cached opencv_python-4.11.0.86-cp37-abi3-win_amd64.whl (39.5 MB)\n",
      "Requirement already satisfied: numpy>=1.17.3 in c:\\users\\administrator\\anaconda3\\lib\\site-packages (from opencv-python) (1.21.6)\n",
      "Installing collected packages: opencv-python\n",
      "Successfully installed opencv-python-4.11.0.86\n"
     ]
    }
   ],
   "source": [
    "!pip install opencv-python"
   ]
  },
  {
   "cell_type": "code",
   "execution_count": 4,
   "id": "b18e2409",
   "metadata": {},
   "outputs": [
    {
     "name": "stdout",
     "output_type": "stream",
     "text": [
      "데이터 증강 완료! ✅ 변환된 이미지는 output_images 폴더에 저장되었습니다.\n"
     ]
    }
   ],
   "source": [
    "import cv2\n",
    "import numpy as np\n",
    "import os\n",
    "import random\n",
    "\n",
    "# 입력 및 출력 폴더 경로 설정\n",
    "input_folder = \"input_images\"  # 원본 이미지 폴더\n",
    "output_folder = \"output_images\"  # 증강된 이미지 저장 폴더\n",
    "\n",
    "# 저장 폴더 생성\n",
    "if not os.path.exists(output_folder):\n",
    "    os.makedirs(output_folder)\n",
    "\n",
    "# 이미지 변환 함수 정의\n",
    "def augment_image(image):\n",
    "    transformations = []\n",
    "\n",
    "    # 1. 좌우 반전\n",
    "    transformations.append(cv2.flip(image, 1))\n",
    "\n",
    "    # 2. 회전 (랜덤 각도)\n",
    "    angle = random.randint(-30, 30)  # -30도에서 30도 사이 랜덤\n",
    "    h, w = image.shape[:2]\n",
    "    M = cv2.getRotationMatrix2D((w//2, h//2), angle, 1)\n",
    "    transformations.append(cv2.warpAffine(image, M, (w, h)))\n",
    "\n",
    "    # 3. 밝기 조절 (50~150%)\n",
    "    alpha = random.uniform(0.5, 1.5)  # 밝기 비율\n",
    "    bright_image = cv2.convertScaleAbs(image, alpha=alpha, beta=0)\n",
    "    transformations.append(bright_image)\n",
    "\n",
    "    # 4. 노이즈 추가\n",
    "    noise = np.random.normal(0, 25, image.shape).astype(np.uint8)\n",
    "    noisy_image = cv2.add(image, noise)\n",
    "    transformations.append(noisy_image)\n",
    "\n",
    "    # 5. 가우시안 블러 (노이즈 제거 효과)\n",
    "    blurred_image = cv2.GaussianBlur(image, (5, 5), 0)\n",
    "    transformations.append(blurred_image)\n",
    "\n",
    "    return transformations\n",
    "\n",
    "# 이미지 증강 실행\n",
    "for filename in os.listdir(input_folder):\n",
    "    if filename.endswith((\".jpg\", \".png\", \".jpeg\")):\n",
    "        img_path = os.path.join(input_folder, filename)\n",
    "        image = cv2.imread(img_path)\n",
    "\n",
    "        if image is None:\n",
    "            continue  # 이미지 로드 실패 시 건너뛰기\n",
    "\n",
    "        augmented_images = augment_image(image)\n",
    "\n",
    "        # 원본 및 변형된 이미지 저장\n",
    "        base_name = os.path.splitext(filename)[0]\n",
    "        cv2.imwrite(os.path.join(output_folder, f\"{base_name}_original.jpg\"), image)\n",
    "\n",
    "        for i, aug_img in enumerate(augmented_images):\n",
    "            cv2.imwrite(os.path.join(output_folder, f\"{base_name}_aug_{i}.jpg\"), aug_img)\n",
    "\n",
    "print(\"데이터 증강 완료! ✅ 변환된 이미지는 output_images 폴더에 저장되었습니다.\")\n"
   ]
  }
 ],
 "metadata": {
  "kernelspec": {
   "display_name": "Python 3 (ipykernel)",
   "language": "python",
   "name": "python3"
  },
  "language_info": {
   "codemirror_mode": {
    "name": "ipython",
    "version": 3
   },
   "file_extension": ".py",
   "mimetype": "text/x-python",
   "name": "python",
   "nbconvert_exporter": "python",
   "pygments_lexer": "ipython3",
   "version": "3.9.13"
  }
 },
 "nbformat": 4,
 "nbformat_minor": 5
}
